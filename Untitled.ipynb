{
 "cells": [
  {
   "cell_type": "code",
   "execution_count": 1,
   "metadata": {
    "scrolled": true
   },
   "outputs": [
    {
     "name": "stderr",
     "output_type": "stream",
     "text": [
      "/Users/meng1369/anaconda3/lib/python3.7/site-packages/pandas/core/frame.py:6692: FutureWarning: Sorting because non-concatenation axis is not aligned. A future version\n",
      "of pandas will change to not sort by default.\n",
      "\n",
      "To accept the future behavior, pass 'sort=False'.\n",
      "\n",
      "To retain the current behavior and silence the warning, pass 'sort=True'.\n",
      "\n",
      "  sort=sort)\n"
     ]
    },
    {
     "name": "stdout",
     "output_type": "stream",
     "text": [
      "[ 42851.9758775   18222.13225038  46051.9687937  ...  73105.7709898\n",
      " 212208.0411625  203218.29099055]\n",
      "0.7027579135042099\n"
     ]
    }
   ],
   "source": [
    "import pandas as pd;\n",
    "import numpy as np;\n",
    "import matplotlib.pyplot as plt;\n",
    "from pandas.core.frame import DataFrame\n",
    "\n",
    "\n",
    "train =  pd.read_csv('/Users/meng1369/Desktop/kaggle/training.csv')\n",
    "test = pd.read_csv('/Users/meng1369/Desktop/kaggle/test.csv')\n",
    "#df_train = pd.concat([train,test],axis=0)\n",
    "df_train = train.append(test)\n",
    "def harmonize_data(data):\n",
    "    \n",
    "    data['Gender'] = data['Gender'].replace('0','#N/A')\n",
    "    data['University Degree']  = data['University Degree'].replace('0','#N/A')\n",
    "\n",
    "    data = data.drop(['Hair Color','Wears Glasses','Body Height [cm]','Income'], axis = 1)\n",
    "   # data = data.drop(data[data['University Degree'].isnull()].index) \n",
    "    data['Year of Record'] = data['Year of Record'].fillna(method=\"backfill\")\n",
    "    data['Age'] = data['Age'].fillna(data['Age'].mean())\n",
    "    data['Gender'] = data['Gender'].fillna(method=\"bfill\")\n",
    "    data['Profession'] = data['Profession'].fillna(method=\"backfill\")\n",
    "    data['University Degree'] = data['University Degree'].fillna(method=\"backfill\")\n",
    "    return data\n",
    "\n",
    "train_data = harmonize_data(df_train)\n",
    "\n",
    "# train_data.describe\n",
    "# train_data.isnull().sum()\n",
    "#df_train.isnull().sum()\n",
    "#df_train.describe\n",
    "#train.describe\n",
    "#test.describe\n",
    "\n",
    "train_data = harmonize_data(df_train)\n",
    "train_data.head()\n",
    "\n",
    "train_data.describe\n",
    "\n",
    "data_dummies = pd.get_dummies(train_data)\n",
    "data_dummies.describe\n",
    "\n",
    "train = data_dummies.iloc[0:111993,:]\n",
    "test = data_dummies.iloc[111993:,:]\n",
    "train.isnull().sum()\n",
    "train.describe\n",
    "#test.isnull().sum()\n",
    "\n",
    "\n",
    "# y_train.describe\n",
    "# y_test.describe\n",
    "\n",
    "y_train = train['Income in EUR']\n",
    "X_train = train.drop(['Income in EUR'],axis=1)\n",
    "y_test = test['Income in EUR']\n",
    "X_test = test.drop(['Income in EUR'],axis=1)\n",
    "\n",
    "from sklearn.ensemble import RandomForestRegressor\n",
    "\n",
    "\n",
    "rfr = RandomForestRegressor(n_estimators=200,oob_score=True)\n",
    "rfr.fit(X_train, y_train)\n",
    "rfr_y_predict = rfr.predict(X_test)\n",
    "\n",
    "print(rfr_y_predict)\n",
    "data=DataFrame(rfr_y_predict)\n",
    "data.to_csv('/Users/meng1369/Desktop/submission.csv')\n",
    "print (rfr.oob_score_)\n",
    "\n",
    "\n"
   ]
  },
  {
   "cell_type": "code",
   "execution_count": null,
   "metadata": {},
   "outputs": [],
   "source": []
  }
 ],
 "metadata": {
  "kernelspec": {
   "display_name": "Python 3",
   "language": "python",
   "name": "python3"
  },
  "language_info": {
   "codemirror_mode": {
    "name": "ipython",
    "version": 3
   },
   "file_extension": ".py",
   "mimetype": "text/x-python",
   "name": "python",
   "nbconvert_exporter": "python",
   "pygments_lexer": "ipython3",
   "version": "3.7.3"
  }
 },
 "nbformat": 4,
 "nbformat_minor": 2
}
